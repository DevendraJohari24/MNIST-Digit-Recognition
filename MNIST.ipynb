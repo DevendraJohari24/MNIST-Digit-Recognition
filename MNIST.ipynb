{
 "cells": [
  {
   "cell_type": "code",
   "execution_count": 49,
   "id": "1a099ad7",
   "metadata": {},
   "outputs": [],
   "source": [
    "import numpy as np\n",
    "import matplotlib.pyplot as plt\n",
    "import keras\n",
    "from keras.datasets import mnist\n",
    "from keras.models import Sequential\n",
    "from keras.layers import Dense, Conv2D, MaxPool2D, Flatten, Dropout"
   ]
  },
  {
   "cell_type": "code",
   "execution_count": 50,
   "id": "85bc4ea1",
   "metadata": {},
   "outputs": [],
   "source": [
    "(X_train, y_train), (X_test, y_test) = mnist.load_data()"
   ]
  },
  {
   "cell_type": "code",
   "execution_count": 51,
   "id": "21fdba73",
   "metadata": {},
   "outputs": [
    {
     "data": {
      "text/plain": [
       "((60000, 28, 28), (60000,))"
      ]
     },
     "execution_count": 51,
     "metadata": {},
     "output_type": "execute_result"
    }
   ],
   "source": [
    "X_train.shape, y_train.shape"
   ]
  },
  {
   "cell_type": "code",
   "execution_count": 52,
   "id": "8d080bca",
   "metadata": {},
   "outputs": [
    {
     "data": {
      "text/plain": [
       "((10000, 28, 28), (10000,))"
      ]
     },
     "execution_count": 52,
     "metadata": {},
     "output_type": "execute_result"
    }
   ],
   "source": [
    "X_test.shape, y_test.shape"
   ]
  },
  {
   "cell_type": "code",
   "execution_count": 53,
   "id": "1e469c7a",
   "metadata": {},
   "outputs": [],
   "source": [
    "def plot_input_img(i):\n",
    "    plt.imshow(X_train[i], cmap='binary')\n",
    "    plt.title(y_train[i])\n",
    "    plt.axis('off')\n",
    "    plt.show()"
   ]
  },
  {
   "cell_type": "code",
   "execution_count": 54,
   "id": "7e1f50d4",
   "metadata": {},
   "outputs": [],
   "source": [
    "#Normalizing the image to [0, 1] range\n",
    "X_train = X_train.astype(np.float32) / 255\n",
    "X_test = X_test.astype(np.float32) / 255"
   ]
  },
  {
   "cell_type": "code",
   "execution_count": 55,
   "id": "f0f35085",
   "metadata": {},
   "outputs": [],
   "source": [
    "#Reshape image - expand the dimensions \n",
    "X_train = np.expand_dims(X_train, -1)\n",
    "X_test = np.expand_dims(X_test, -1)"
   ]
  },
  {
   "cell_type": "code",
   "execution_count": 56,
   "id": "779a258d",
   "metadata": {},
   "outputs": [],
   "source": [
    "#convert classes to hot vectors\n",
    "y_train = keras.utils.to_categorical(y_train)\n",
    "y_test = keras.utils.to_categorical(y_test)"
   ]
  },
  {
   "cell_type": "code",
   "execution_count": 57,
   "id": "0a964ad3",
   "metadata": {},
   "outputs": [],
   "source": [
    "#model building\n",
    "model = Sequential()\n",
    "\n",
    "model.add(Conv2D(32, (3, 3), input_shape=(28,28,1), activation='relu'))\n",
    "model.add(MaxPool2D((2,2)))\n",
    "\n",
    "model.add(Conv2D(64, (3, 3), activation='relu'))\n",
    "model.add(MaxPool2D((2,2)))\n",
    "\n",
    "model.add(Flatten())\n",
    "\n",
    "model.add(Dropout(0.25))\n",
    "\n",
    "model.add(Dense(10, activation='softmax'))"
   ]
  },
  {
   "cell_type": "code",
   "execution_count": 58,
   "id": "09990816",
   "metadata": {},
   "outputs": [
    {
     "name": "stdout",
     "output_type": "stream",
     "text": [
      "Model: \"sequential_2\"\n",
      "_________________________________________________________________\n",
      " Layer (type)                Output Shape              Param #   \n",
      "=================================================================\n",
      " conv2d_3 (Conv2D)           (None, 26, 26, 32)        320       \n",
      "                                                                 \n",
      " max_pooling2d_2 (MaxPooling  (None, 13, 13, 32)       0         \n",
      " 2D)                                                             \n",
      "                                                                 \n",
      " conv2d_4 (Conv2D)           (None, 11, 11, 64)        18496     \n",
      "                                                                 \n",
      " max_pooling2d_3 (MaxPooling  (None, 5, 5, 64)         0         \n",
      " 2D)                                                             \n",
      "                                                                 \n",
      " flatten_1 (Flatten)         (None, 1600)              0         \n",
      "                                                                 \n",
      " dropout_1 (Dropout)         (None, 1600)              0         \n",
      "                                                                 \n",
      " dense_1 (Dense)             (None, 10)                16010     \n",
      "                                                                 \n",
      "=================================================================\n",
      "Total params: 34,826\n",
      "Trainable params: 34,826\n",
      "Non-trainable params: 0\n",
      "_________________________________________________________________\n"
     ]
    }
   ],
   "source": [
    "model.summary()"
   ]
  },
  {
   "cell_type": "code",
   "execution_count": 75,
   "id": "68c200df",
   "metadata": {},
   "outputs": [],
   "source": [
    "model.compile(optimizer='adam',loss=keras.losses.categorical_crossentropy, metrics=['accuracy'])"
   ]
  },
  {
   "cell_type": "code",
   "execution_count": 76,
   "id": "f4b5ef9f",
   "metadata": {},
   "outputs": [],
   "source": [
    "#Callbacks"
   ]
  },
  {
   "cell_type": "code",
   "execution_count": 77,
   "id": "64cfda4a",
   "metadata": {},
   "outputs": [],
   "source": [
    "from keras.callbacks import EarlyStopping, ModelCheckpoint"
   ]
  },
  {
   "cell_type": "code",
   "execution_count": 78,
   "id": "248198bf",
   "metadata": {},
   "outputs": [],
   "source": [
    "#EarlyStopping\n",
    "es = EarlyStopping(monitor='val_accuracy', min_delta=0.01, patience=4, verbose=1)"
   ]
  },
  {
   "cell_type": "code",
   "execution_count": 79,
   "id": "570d98c5",
   "metadata": {},
   "outputs": [],
   "source": [
    "#Model Check Point\n",
    "mc = ModelCheckpoint(\"./mnistModel.h5\", monitor=\"val_accuracy\", verbose=1, save_best_only=True)"
   ]
  },
  {
   "cell_type": "code",
   "execution_count": 80,
   "id": "0e3c5d06",
   "metadata": {},
   "outputs": [],
   "source": [
    "cb=[es,mc]"
   ]
  },
  {
   "cell_type": "code",
   "execution_count": 81,
   "id": "aea1bffe",
   "metadata": {
    "scrolled": true
   },
   "outputs": [
    {
     "name": "stdout",
     "output_type": "stream",
     "text": [
      "Epoch 1/50\n",
      "1312/1313 [============================>.] - ETA: 0s - loss: 0.0450 - accuracy: 0.9859\n",
      "Epoch 1: val_accuracy improved from -inf to 0.98528, saving model to .\\mnistModel.h5\n",
      "1313/1313 [==============================] - 18s 13ms/step - loss: 0.0450 - accuracy: 0.9859 - val_loss: 0.0456 - val_accuracy: 0.9853\n",
      "Epoch 2/50\n",
      "1311/1313 [============================>.] - ETA: 0s - loss: 0.0356 - accuracy: 0.9888\n",
      "Epoch 2: val_accuracy improved from 0.98528 to 0.98606, saving model to .\\mnistModel.h5\n",
      "1313/1313 [==============================] - 18s 14ms/step - loss: 0.0356 - accuracy: 0.9888 - val_loss: 0.0462 - val_accuracy: 0.9861\n",
      "Epoch 3/50\n",
      "1312/1313 [============================>.] - ETA: 0s - loss: 0.0330 - accuracy: 0.9893\n",
      "Epoch 3: val_accuracy did not improve from 0.98606\n",
      "1313/1313 [==============================] - 17s 13ms/step - loss: 0.0329 - accuracy: 0.9893 - val_loss: 0.0450 - val_accuracy: 0.9860\n",
      "Epoch 4/50\n",
      "1312/1313 [============================>.] - ETA: 0s - loss: 0.0276 - accuracy: 0.9907\n",
      "Epoch 4: val_accuracy improved from 0.98606 to 0.98694, saving model to .\\mnistModel.h5\n",
      "1313/1313 [==============================] - 17s 13ms/step - loss: 0.0276 - accuracy: 0.9907 - val_loss: 0.0426 - val_accuracy: 0.9869\n",
      "Epoch 5/50\n",
      "1312/1313 [============================>.] - ETA: 0s - loss: 0.0242 - accuracy: 0.9922\n",
      "Epoch 5: val_accuracy did not improve from 0.98694\n",
      "1313/1313 [==============================] - 17s 13ms/step - loss: 0.0242 - accuracy: 0.9922 - val_loss: 0.0461 - val_accuracy: 0.9864\n",
      "Epoch 5: early stopping\n"
     ]
    }
   ],
   "source": [
    "his = model.fit(X_train, y_train, epochs=50, validation_split=0.3, callbacks=cb)"
   ]
  },
  {
   "cell_type": "code",
   "execution_count": 82,
   "id": "355e94ac",
   "metadata": {},
   "outputs": [],
   "source": [
    "model_save = keras.models.load_model(\"./mnistModel.h5\")"
   ]
  },
  {
   "cell_type": "code",
   "execution_count": 83,
   "id": "4739cafb",
   "metadata": {},
   "outputs": [
    {
     "name": "stdout",
     "output_type": "stream",
     "text": [
      "313/313 [==============================] - 1s 4ms/step - loss: 0.0333 - accuracy: 0.9890\n"
     ]
    }
   ],
   "source": [
    "score = model_save.evaluate(X_test, y_test)"
   ]
  },
  {
   "cell_type": "code",
   "execution_count": null,
   "id": "05a59f99",
   "metadata": {},
   "outputs": [],
   "source": []
  }
 ],
 "metadata": {
  "kernelspec": {
   "display_name": "Python 3 (ipykernel)",
   "language": "python",
   "name": "python3"
  },
  "language_info": {
   "codemirror_mode": {
    "name": "ipython",
    "version": 3
   },
   "file_extension": ".py",
   "mimetype": "text/x-python",
   "name": "python",
   "nbconvert_exporter": "python",
   "pygments_lexer": "ipython3",
   "version": "3.9.15"
  }
 },
 "nbformat": 4,
 "nbformat_minor": 5
}
